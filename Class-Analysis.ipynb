{
 "cells": [
  {
   "cell_type": "code",
   "execution_count": 1,
   "metadata": {
    "collapsed": true
   },
   "outputs": [],
   "source": [
    "import csv\n",
    "from pprint import pprint"
   ]
  },
  {
   "cell_type": "code",
   "execution_count": 2,
   "metadata": {
    "collapsed": true
   },
   "outputs": [],
   "source": [
    "import matplotlib.pyplot as plt"
   ]
  },
  {
   "cell_type": "code",
   "execution_count": 3,
   "metadata": {
    "collapsed": true
   },
   "outputs": [],
   "source": [
    "classes = dict()"
   ]
  },
  {
   "cell_type": "code",
   "execution_count": 5,
   "metadata": {
    "collapsed": true
   },
   "outputs": [],
   "source": [
    "for i in range(11):\n",
    "    file_name = '../../../od-output/'+str(i)+'/meta-classes.txt'\n",
    "    with open(file_name, 'rt') as csvfile:\n",
    "        csv_file = csv.reader(csvfile, delimiter=',')\n",
    "        for row in csv_file:\n",
    "            try:\n",
    "                classes[row[0]]+=int(row[1])\n",
    "            except KeyError:\n",
    "                classes[row[0]]=int(row[1])"
   ]
  },
  {
   "cell_type": "code",
   "execution_count": 6,
   "metadata": {},
   "outputs": [
    {
     "data": {
      "image/png": "[encoded data removed]",
      "text/plain": [
       "<matplotlib.figure.Figure at 0x2aaad1f89710>"
      ]
     },
     "metadata": {},
     "output_type": "display_data"
    }
   ],
   "source": [
    "plt.bar(range(len(classes)), classes.values(), align=\"center\")\n",
    "plt.xticks(range(len(classes)), list(classes.keys()))\n",
    "plt.show()"
   ]
  },
  {
   "cell_type": "code",
   "execution_count": 7,
   "metadata": {
    "outputExpanded": false,
    "scrolled": false
   },
   "outputs": [
    {
     "name": "stdout",
     "output_type": "stream",
     "text": [
      "Poster\t\t\t28397\n",
      "Person\t\t\t20257\n",
      "Face\t\t\t17737\n",
      "Clothing\t\t\t14437\n",
      "Woman\t\t\t11933\n",
      "Man\t\t\t8966\n",
      "Car\t\t\t6120\n",
      "Footwear\t\t\t4378\n",
      "Bottle\t\t\t3895\n",
      "Wheel\t\t\t3584\n",
      "Drink\t\t\t2944\n",
      "Girl\t\t\t2744\n",
      "Mobile phone\t\t\t1872\n",
      "Hair\t\t\t1429\n",
      "Food\t\t\t1304\n",
      "Snack\t\t\t1303\n",
      "Tree\t\t\t1261\n",
      "Land vehicle\t\t\t1251\n",
      "Hand\t\t\t1233\n",
      "Dress\t\t\t1218\n",
      "Toy\t\t\t1191\n",
      "Fashion accessory\t\t\t1151\n",
      "Book\t\t\t1055\n",
      "Arm\t\t\t917\n",
      "Head\t\t\t817\n",
      "Animal\t\t\t793\n",
      "Tin can\t\t\t768\n",
      "Jeans\t\t\t699\n",
      "Cosmetics\t\t\t697\n",
      "Glasses\t\t\t684\n",
      "Suit\t\t\t675\n",
      "N/A\t\t\t668\n",
      "Eye\t\t\t625\n",
      "Nose\t\t\t599\n",
      "Plant\t\t\t571\n",
      "Bear\t\t\t567\n",
      "Mammal\t\t\t566\n",
      "Leg\t\t\t560\n",
      "Tableware\t\t\t548\n",
      "Flower\t\t\t545\n",
      "Boy\t\t\t494\n",
      "Vehicle\t\t\t475\n",
      "Baked goods\t\t\t461\n",
      "Building\t\t\t447\n",
      "Cake\t\t\t436\n",
      "Tire\t\t\t424\n",
      "Trousers\t\t\t422\n",
      "Ball\t\t\t419\n",
      "Auto part\t\t\t414\n",
      "Table\t\t\t408\n",
      "Dog\t\t\t399\n",
      "Jacket\t\t\t397\n",
      "Furniture\t\t\t389\n",
      "Dessert\t\t\t379\n",
      "Airplane\t\t\t378\n",
      "Bike\t\t\t372\n",
      "Window\t\t\t371\n",
      "Office supplies\t\t\t364\n",
      "Camera\t\t\t362\n",
      "Boat\t\t\t351\n",
      "Hat\t\t\t351\n",
      "Picture frame\t\t\t348\n",
      "Sunglasses\t\t\t329\n",
      "Laptop\t\t\t318\n",
      "Watch\t\t\t312\n",
      "Billboard\t\t\t308\n",
      "Motorcycle\t\t\t306\n",
      "Handbag\t\t\t302\n",
      "Dairy\t\t\t301\n",
      "Bird\t\t\t295\n",
      "Bicycle wheel\t\t\t292\n",
      "Sculpture\t\t\t289\n",
      "Box\t\t\t280\n",
      "Coffee cup\t\t\t280\n",
      "Truck\t\t\t278\n",
      "Helmet\t\t\t274\n",
      "Chair\t\t\t267\n",
      "Football\t\t\t234\n",
      "Mug\t\t\t220\n",
      "Television\t\t\t211\n",
      "Wine glass\t\t\t211\n",
      "Goggles\t\t\t205\n",
      "Vase\t\t\t201\n",
      "Coat\t\t\t196\n",
      "Horse\t\t\t178\n",
      "Mouth\t\t\t175\n",
      "Boot\t\t\t174\n",
      "High heels\t\t\t171\n",
      "Computer monitor\t\t\t170\n",
      "Bowl\t\t\t168\n",
      "Shirt\t\t\t162\n",
      "Ice cream\t\t\t162\n",
      "Home appliance\t\t\t158\n",
      "Skull\t\t\t156\n",
      "Glove\t\t\t156\n",
      "House\t\t\t156\n",
      "Tool\t\t\t154\n",
      "Microphone\t\t\t151\n",
      "Carnivore\t\t\t147\n",
      "Flowerpot\t\t\t143\n",
      "Shorts\t\t\t143\n",
      "Fedora\t\t\t139\n",
      "Plate\t\t\t139\n",
      "Fruit\t\t\t137\n",
      "Guitar\t\t\t129\n",
      "Brassiere\t\t\t125\n",
      "Luggage and bags\t\t\t123\n",
      "Computer keyboard\t\t\t123\n",
      "Balloon\t\t\t117\n",
      "Van\t\t\t115\n",
      "Beer\t\t\t114\n",
      "Skyscraper\t\t\t113\n",
      "Traffic sign\t\t\t110\n",
      "Necklace\t\t\t109\n",
      "Fish\t\t\t107\n",
      "Aircraft\t\t\t107\n",
      "Sports uniform\t\t\t107\n",
      "Vegetable\t\t\t105\n",
      "Marine invertebrates\t\t\t97\n",
      "Tower\t\t\t95\n",
      "Houseplant\t\t\t94\n",
      "Flag\t\t\t94\n",
      "Weapon\t\t\t93\n",
      "Lamp\t\t\t91\n",
      "Coin\t\t\t90\n",
      "Palm tree\t\t\t90\n",
      "Clock\t\t\t87\n",
      "Wine\t\t\t87\n",
      "Licence plate\t\t\t86\n",
      "Swimming pool\t\t\t85\n",
      "Musical instrument\t\t\t84\n",
      "Cat\t\t\t84\n",
      "Cattle\t\t\t75\n",
      "Juice\t\t\t73\n",
      "Fast food\t\t\t73\n",
      "Football helmet\t\t\t73\n",
      "Doll\t\t\t73\n",
      "Canoe\t\t\t72\n",
      "Butterfly\t\t\t71\n",
      "Fountain\t\t\t71\n",
      "Elephant\t\t\t71\n",
      "Shelf\t\t\t69\n",
      "Muffin\t\t\t67\n",
      "Couch\t\t\t67\n",
      "Kitchen appliance\t\t\t66\n",
      "Door\t\t\t66\n",
      "Bench\t\t\t65\n",
      "Sandwich\t\t\t65\n",
      "Umbrella\t\t\t65\n",
      "Mirror\t\t\t63\n",
      "Tie\t\t\t62\n",
      "Ear\t\t\t62\n",
      "Sun hat\t\t\t58\n",
      "Whiteboard\t\t\t56\n",
      "Skirt\t\t\t55\n",
      "Rifle\t\t\t55\n",
      "Helicopter\t\t\t54\n",
      "Saucer\t\t\t53\n",
      "Cocktail\t\t\t53\n",
      "Christmas tree\t\t\t52\n",
      "Watercraft\t\t\t52\n",
      "Platter\t\t\t51\n",
      "Sandal\t\t\t51\n",
      "Rose\t\t\t50\n",
      "Surfboard\t\t\t50\n",
      "Drawer\t\t\t49\n",
      "Insect\t\t\t48\n",
      "Street light\t\t\t48\n",
      "Kitchen utensil\t\t\t47\n",
      "Curtain\t\t\t47\n",
      "Coffee table\t\t\t46\n",
      "Marine mammal\t\t\t46\n",
      "Stairs\t\t\t44\n",
      "Bed\t\t\t42\n",
      "Goose\t\t\t41\n",
      "Drum\t\t\t41\n",
      "Pastry\t\t\t40\n",
      "Bicycle helmet\t\t\t39\n",
      "Moths and butterflies\t\t\t38\n",
      "Lion\t\t\t38\n",
      "Penguin\t\t\t38\n",
      "Train\t\t\t37\n",
      "Desk\t\t\t36\n",
      "Tap\t\t\t36\n",
      "Office\t\t\t35\n",
      "Human body\t\t\t35\n",
      "Invertebrate\t\t\t34\n",
      "Duck\t\t\t34\n",
      "Reptile\t\t\t34\n",
      "Tent\t\t\t34\n",
      "Sofa bed\t\t\t33\n",
      "Swan\t\t\t32\n",
      "Bus\t\t\t31\n",
      "Taxi\t\t\t31\n",
      "Musical keyboard\t\t\t31\n",
      "Owl\t\t\t31\n",
      "Deer\t\t\t30\n",
      "Frog\t\t\t30\n",
      "Seafood\t\t\t30\n",
      "Cart\t\t\t29\n",
      "Kitchen & dining room table\t\t\t29\n",
      "Tomato\t\t\t28\n",
      "Monkey\t\t\t28\n",
      "Lizard\t\t\t27\n",
      "Salad\t\t\t27\n",
      "Bronze sculpture\t\t\t26\n",
      "Pillow\t\t\t26\n",
      "Strawberry\t\t\t24\n",
      "Cabinetry\t\t\t24\n",
      "Turtle\t\t\t23\n",
      "Sink\t\t\t23\n",
      "Chicken\t\t\t22\n",
      "Convenience store\t\t\t21\n",
      "Castle\t\t\t21\n",
      "Teddy bear\t\t\t21\n",
      "Piano\t\t\t20\n",
      "Cowboy hat\t\t\t20\n",
      "Eagle\t\t\t20\n",
      "Ski\t\t\t20\n",
      "Sheep\t\t\t19\n",
      "Coffee\t\t\t19\n",
      "Tortoise\t\t\t18\n",
      "Bookcase\t\t\t17\n",
      "Pumpkin\t\t\t17\n",
      "Scarf\t\t\t17\n",
      "Beetle\t\t\t17\n",
      "Swimwear\t\t\t16\n",
      "Sports equipment\t\t\t15\n",
      "Plumbing fixture\t\t\t15\n",
      "Chest of drawers\t\t\t15\n",
      "Cello\t\t\t15\n",
      "Tank\t\t\t15\n",
      "Spider\t\t\t15\n",
      "Parrot\t\t\t14\n",
      "Lighthouse\t\t\t12\n",
      "Sunflower\t\t\t11\n",
      "Countertop\t\t\t11\n",
      "Bee\t\t\t11\n",
      "Pizza\t\t\t11\n",
      "Candle\t\t\t10\n",
      "Falcon\t\t\t10\n",
      "Squirrel\t\t\t10\n",
      "Traffic light\t\t\t10\n",
      "Dragonfly\t\t\t10\n",
      "Beard\t\t\t10\n",
      "Mushroom\t\t\t8\n",
      "Maple\t\t\t7\n",
      "Lily\t\t\t6\n",
      "Squash\t\t\t6\n",
      "Paddle\t\t\t6\n",
      "Violin\t\t\t6\n",
      "Bread\t\t\t4\n",
      "Lifejacket\t\t\t2\n",
      "Porch\t\t\t2\n"
     ]
    }
   ],
   "source": [
    "sorted_class = [(k, classes[k]) for k in sorted(classes, key=classes.get, reverse=True)]\n",
    "for k, v in sorted_class:\n",
    "    print(k+'\\t\\t\\t'+str(v))"
   ]
  },
  {
   "cell_type": "code",
   "execution_count": 8,
   "metadata": {},
   "outputs": [
    {
     "data": {
      "text/plain": [
       "254"
      ]
     },
     "execution_count": 8,
     "metadata": {},
     "output_type": "execute_result"
    }
   ],
   "source": [
    "len(sorted_class)"
   ]
  },
  {
   "cell_type": "code",
   "execution_count": 22,
   "metadata": {
    "collapsed": true,
    "scrolled": true
   },
   "outputs": [],
   "source": [
    "clustered_classes = []\n",
    "mapping_classes_index = dict()\n",
    "file_name = 'class_clusters.txt'\n",
    "with open(file_name, 'rt') as file:\n",
    "    lines = file.read().splitlines()\n",
    "    idx = -1\n",
    "    for line in lines:\n",
    "        words = line.split('\\t')\n",
    "        if not line.startswith('\\t'):\n",
    "            clustered_classes.append(set())\n",
    "            idx += 1\n",
    "        class_name = line.strip().split('\\t')[0]\n",
    "        mapping_classes_index[class_name] = idx\n",
    "        clustered_classes[idx].add(class_name)"
   ]
  },
  {
   "cell_type": "code",
   "execution_count": 24,
   "metadata": {},
   "outputs": [
    {
     "data": {
      "text/plain": [
       "86"
      ]
     },
     "execution_count": 24,
     "metadata": {},
     "output_type": "execute_result"
    }
   ],
   "source": [
    "len(clustered_classes)"
   ]
  }
 ],
 "metadata": {
  "kernel_info": {
   "name": "python3"
  },
  "kernelspec": {
   "display_name": "Python 3",
   "language": "python",
   "name": "python3"
  },
  "language_info": {
   "codemirror_mode": {
    "name": "ipython",
    "version": 3
   },
   "file_extension": ".py",
   "mimetype": "text/x-python",
   "name": "python",
   "nbconvert_exporter": "python",
   "pygments_lexer": "ipython3",
   "version": "3.5.4"
  },
  "nteract": {
   "version": "0.8.4"
  }
 },
 "nbformat": 4,
 "nbformat_minor": 2
}
